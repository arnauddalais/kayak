{
 "cells": [
  {
   "cell_type": "code",
   "execution_count": 19,
   "metadata": {},
   "outputs": [],
   "source": [
    "import boto3\n",
    "import pandas as pd"
   ]
  },
  {
   "cell_type": "code",
   "execution_count": 20,
   "metadata": {},
   "outputs": [],
   "source": [
    "#read kayak csv\n",
    "kayak = pd.read_csv('src/kayak.csv')"
   ]
  },
  {
   "cell_type": "code",
   "execution_count": 21,
   "metadata": {},
   "outputs": [
    {
     "data": {
      "text/html": [
       "<div>\n",
       "<style scoped>\n",
       "    .dataframe tbody tr th:only-of-type {\n",
       "        vertical-align: middle;\n",
       "    }\n",
       "\n",
       "    .dataframe tbody tr th {\n",
       "        vertical-align: top;\n",
       "    }\n",
       "\n",
       "    .dataframe thead th {\n",
       "        text-align: right;\n",
       "    }\n",
       "</style>\n",
       "<table border=\"1\" class=\"dataframe\">\n",
       "  <thead>\n",
       "    <tr style=\"text-align: right;\">\n",
       "      <th></th>\n",
       "      <th>id_city</th>\n",
       "      <th>hotel_name</th>\n",
       "      <th>url</th>\n",
       "      <th>score</th>\n",
       "      <th>text</th>\n",
       "      <th>lat_hotel</th>\n",
       "      <th>lon_hotel</th>\n",
       "      <th>cities</th>\n",
       "      <th>latitude</th>\n",
       "      <th>longitude</th>\n",
       "      <th>temp</th>\n",
       "      <th>rain</th>\n",
       "      <th>weather</th>\n",
       "    </tr>\n",
       "  </thead>\n",
       "  <tbody>\n",
       "    <tr>\n",
       "      <th>0</th>\n",
       "      <td>0</td>\n",
       "      <td>Au Mont Chez Nous Jaccuzi et Sauna</td>\n",
       "      <td>https://www.booking.com/hotel/fr/26-route-de-l...</td>\n",
       "      <td>9.2</td>\n",
       "      <td>La Résidence Fleurdumont vous propose un héber...</td>\n",
       "      <td>48.613455</td>\n",
       "      <td>-1.485872</td>\n",
       "      <td>Mont Saint Michel</td>\n",
       "      <td>48.635954</td>\n",
       "      <td>-1.511460</td>\n",
       "      <td>5.0</td>\n",
       "      <td>0.0</td>\n",
       "      <td>Fog</td>\n",
       "    </tr>\n",
       "    <tr>\n",
       "      <th>1</th>\n",
       "      <td>1</td>\n",
       "      <td>Le PETIT SILLON - Joli T2 rénové - VUE MER - 1...</td>\n",
       "      <td>https://www.booking.com/hotel/fr/le-petit-sill...</td>\n",
       "      <td>8.2</td>\n",
       "      <td>Situé à Saint-Malo, à seulement 1 km de la pla...</td>\n",
       "      <td>48.654751</td>\n",
       "      <td>-2.006933</td>\n",
       "      <td>St Malo</td>\n",
       "      <td>48.649518</td>\n",
       "      <td>-2.026041</td>\n",
       "      <td>5.1</td>\n",
       "      <td>0.0</td>\n",
       "      <td>Cloudly</td>\n",
       "    </tr>\n",
       "    <tr>\n",
       "      <th>2</th>\n",
       "      <td>3</td>\n",
       "      <td>Sweet Home - Chic &amp; Cosy - 4 pers</td>\n",
       "      <td>https://www.booking.com/hotel/fr/sweet-home-ch...</td>\n",
       "      <td>8.8</td>\n",
       "      <td>Le Cocon Perret - Plage du Havre - Design &amp; Mo...</td>\n",
       "      <td>49.498222</td>\n",
       "      <td>0.121556</td>\n",
       "      <td>Le Havre</td>\n",
       "      <td>49.493898</td>\n",
       "      <td>0.107973</td>\n",
       "      <td>5.5</td>\n",
       "      <td>0.0</td>\n",
       "      <td>Cloudly</td>\n",
       "    </tr>\n",
       "    <tr>\n",
       "      <th>3</th>\n",
       "      <td>4</td>\n",
       "      <td>Appartement place du vieux marché</td>\n",
       "      <td>https://www.booking.com/hotel/fr/appartement-p...</td>\n",
       "      <td>9.3</td>\n",
       "      <td>Situé à Rouen, en Haute-Normandie, à proximité...</td>\n",
       "      <td>49.442900</td>\n",
       "      <td>1.087377</td>\n",
       "      <td>Rouen</td>\n",
       "      <td>49.440459</td>\n",
       "      <td>1.093966</td>\n",
       "      <td>4.2</td>\n",
       "      <td>0.0</td>\n",
       "      <td>Cloudly</td>\n",
       "    </tr>\n",
       "    <tr>\n",
       "      <th>4</th>\n",
       "      <td>1</td>\n",
       "      <td>Duplex Saint Malo Saint Servan plage à 100m In...</td>\n",
       "      <td>https://www.booking.com/hotel/fr/duplex-saint-...</td>\n",
       "      <td>9.3</td>\n",
       "      <td>Doté d'une connexion Wi-Fi gratuite, le Rance ...</td>\n",
       "      <td>48.640932</td>\n",
       "      <td>-2.017990</td>\n",
       "      <td>St Malo</td>\n",
       "      <td>48.649518</td>\n",
       "      <td>-2.026041</td>\n",
       "      <td>5.1</td>\n",
       "      <td>0.0</td>\n",
       "      <td>Cloudly</td>\n",
       "    </tr>\n",
       "  </tbody>\n",
       "</table>\n",
       "</div>"
      ],
      "text/plain": [
       "   id_city                                         hotel_name  \\\n",
       "0        0                 Au Mont Chez Nous Jaccuzi et Sauna   \n",
       "1        1  Le PETIT SILLON - Joli T2 rénové - VUE MER - 1...   \n",
       "2        3                  Sweet Home - Chic & Cosy - 4 pers   \n",
       "3        4                  Appartement place du vieux marché   \n",
       "4        1  Duplex Saint Malo Saint Servan plage à 100m In...   \n",
       "\n",
       "                                                 url  score  \\\n",
       "0  https://www.booking.com/hotel/fr/26-route-de-l...    9.2   \n",
       "1  https://www.booking.com/hotel/fr/le-petit-sill...    8.2   \n",
       "2  https://www.booking.com/hotel/fr/sweet-home-ch...    8.8   \n",
       "3  https://www.booking.com/hotel/fr/appartement-p...    9.3   \n",
       "4  https://www.booking.com/hotel/fr/duplex-saint-...    9.3   \n",
       "\n",
       "                                                text  lat_hotel  lon_hotel  \\\n",
       "0  La Résidence Fleurdumont vous propose un héber...  48.613455  -1.485872   \n",
       "1  Situé à Saint-Malo, à seulement 1 km de la pla...  48.654751  -2.006933   \n",
       "2  Le Cocon Perret - Plage du Havre - Design & Mo...  49.498222   0.121556   \n",
       "3  Situé à Rouen, en Haute-Normandie, à proximité...  49.442900   1.087377   \n",
       "4  Doté d'une connexion Wi-Fi gratuite, le Rance ...  48.640932  -2.017990   \n",
       "\n",
       "              cities   latitude  longitude  temp  rain  weather  \n",
       "0  Mont Saint Michel  48.635954  -1.511460   5.0   0.0      Fog  \n",
       "1            St Malo  48.649518  -2.026041   5.1   0.0  Cloudly  \n",
       "2           Le Havre  49.493898   0.107973   5.5   0.0  Cloudly  \n",
       "3              Rouen  49.440459   1.093966   4.2   0.0  Cloudly  \n",
       "4            St Malo  48.649518  -2.026041   5.1   0.0  Cloudly  "
      ]
     },
     "execution_count": 21,
     "metadata": {},
     "output_type": "execute_result"
    }
   ],
   "source": [
    "#check the data\n",
    "kayak.head()"
   ]
  },
  {
   "cell_type": "code",
   "execution_count": 22,
   "metadata": {},
   "outputs": [],
   "source": [
    "# credentials\n",
    "aws_df = pd.read_excel(r'C:\\Users\\dunca\\Desktop\\dsi\\new_user_credentials.xlsx')\n",
    "access_key_id = aws_df['Access key ID'][0]\n",
    "secret_access_key = aws_df['Secret access key'][0]"
   ]
  },
  {
   "cell_type": "code",
   "execution_count": 23,
   "metadata": {},
   "outputs": [],
   "source": [
    "# open session with cedentials\n",
    "session = boto3.Session(aws_access_key_id=access_key_id, \n",
    "                        aws_secret_access_key=secret_access_key)"
   ]
  },
  {
   "cell_type": "code",
   "execution_count": 24,
   "metadata": {},
   "outputs": [],
   "source": [
    "s3 = session.resource(\"s3\")"
   ]
  },
  {
   "cell_type": "code",
   "execution_count": 25,
   "metadata": {},
   "outputs": [],
   "source": [
    "# upload csv to the bucket\n",
    "s3.meta.client.upload_file(Filename = 'src/kayak.csv', Bucket = \"bucketadalais\", Key = 'kayak.csv')"
   ]
  },
  {
   "attachments": {},
   "cell_type": "markdown",
   "metadata": {},
   "source": [
    "Create a sql database on RDS"
   ]
  },
  {
   "cell_type": "code",
   "execution_count": 26,
   "metadata": {},
   "outputs": [],
   "source": [
    "# import librairies\n",
    "from sqlalchemy import create_engine, text\n",
    "from sqlalchemy.orm import sessionmaker"
   ]
  },
  {
   "cell_type": "code",
   "execution_count": 27,
   "metadata": {},
   "outputs": [],
   "source": [
    "# credentials\n",
    "rds_df = pd.read_excel(r'C:\\Users\\dunca\\Desktop\\dsi\\rds.xlsx')\n",
    "rds_user = rds_df['user'][0]\n",
    "rds_pw = rds_df['mdp'][0]\n",
    "rds_hostname = rds_df['hostname'][0]"
   ]
  },
  {
   "cell_type": "code",
   "execution_count": 28,
   "metadata": {},
   "outputs": [],
   "source": [
    "# create engine\n",
    "engine = create_engine(f\"postgresql+psycopg2://{rds_user}:{rds_pw}@{rds_hostname}\", echo=True)"
   ]
  },
  {
   "cell_type": "code",
   "execution_count": 29,
   "metadata": {},
   "outputs": [],
   "source": [
    "#open a session\n",
    "Session = sessionmaker(bind=engine)"
   ]
  },
  {
   "cell_type": "code",
   "execution_count": 30,
   "metadata": {},
   "outputs": [],
   "source": [
    "session = Session()"
   ]
  },
  {
   "cell_type": "code",
   "execution_count": 32,
   "metadata": {},
   "outputs": [],
   "source": [
    "# read data from aws S3\n",
    "kayak_S3 = pd.read_csv('https://bucketadalais.s3.eu-west-3.amazonaws.com/kayak.csv')"
   ]
  },
  {
   "cell_type": "code",
   "execution_count": 33,
   "metadata": {},
   "outputs": [
    {
     "data": {
      "text/html": [
       "<div>\n",
       "<style scoped>\n",
       "    .dataframe tbody tr th:only-of-type {\n",
       "        vertical-align: middle;\n",
       "    }\n",
       "\n",
       "    .dataframe tbody tr th {\n",
       "        vertical-align: top;\n",
       "    }\n",
       "\n",
       "    .dataframe thead th {\n",
       "        text-align: right;\n",
       "    }\n",
       "</style>\n",
       "<table border=\"1\" class=\"dataframe\">\n",
       "  <thead>\n",
       "    <tr style=\"text-align: right;\">\n",
       "      <th></th>\n",
       "      <th>id_city</th>\n",
       "      <th>hotel_name</th>\n",
       "      <th>url</th>\n",
       "      <th>score</th>\n",
       "      <th>text</th>\n",
       "      <th>lat_hotel</th>\n",
       "      <th>lon_hotel</th>\n",
       "      <th>cities</th>\n",
       "      <th>latitude</th>\n",
       "      <th>longitude</th>\n",
       "      <th>temp</th>\n",
       "      <th>rain</th>\n",
       "      <th>weather</th>\n",
       "    </tr>\n",
       "  </thead>\n",
       "  <tbody>\n",
       "    <tr>\n",
       "      <th>0</th>\n",
       "      <td>0</td>\n",
       "      <td>Au Mont Chez Nous Jaccuzi et Sauna</td>\n",
       "      <td>https://www.booking.com/hotel/fr/26-route-de-l...</td>\n",
       "      <td>9.2</td>\n",
       "      <td>La Résidence Fleurdumont vous propose un héber...</td>\n",
       "      <td>48.613455</td>\n",
       "      <td>-1.485872</td>\n",
       "      <td>Mont Saint Michel</td>\n",
       "      <td>48.635954</td>\n",
       "      <td>-1.511460</td>\n",
       "      <td>5.0</td>\n",
       "      <td>0.0</td>\n",
       "      <td>Fog</td>\n",
       "    </tr>\n",
       "    <tr>\n",
       "      <th>1</th>\n",
       "      <td>1</td>\n",
       "      <td>Le PETIT SILLON - Joli T2 rénové - VUE MER - 1...</td>\n",
       "      <td>https://www.booking.com/hotel/fr/le-petit-sill...</td>\n",
       "      <td>8.2</td>\n",
       "      <td>Situé à Saint-Malo, à seulement 1 km de la pla...</td>\n",
       "      <td>48.654751</td>\n",
       "      <td>-2.006933</td>\n",
       "      <td>St Malo</td>\n",
       "      <td>48.649518</td>\n",
       "      <td>-2.026041</td>\n",
       "      <td>5.1</td>\n",
       "      <td>0.0</td>\n",
       "      <td>Cloudly</td>\n",
       "    </tr>\n",
       "    <tr>\n",
       "      <th>2</th>\n",
       "      <td>3</td>\n",
       "      <td>Sweet Home - Chic &amp; Cosy - 4 pers</td>\n",
       "      <td>https://www.booking.com/hotel/fr/sweet-home-ch...</td>\n",
       "      <td>8.8</td>\n",
       "      <td>Le Cocon Perret - Plage du Havre - Design &amp; Mo...</td>\n",
       "      <td>49.498222</td>\n",
       "      <td>0.121556</td>\n",
       "      <td>Le Havre</td>\n",
       "      <td>49.493898</td>\n",
       "      <td>0.107973</td>\n",
       "      <td>5.5</td>\n",
       "      <td>0.0</td>\n",
       "      <td>Cloudly</td>\n",
       "    </tr>\n",
       "    <tr>\n",
       "      <th>3</th>\n",
       "      <td>4</td>\n",
       "      <td>Appartement place du vieux marché</td>\n",
       "      <td>https://www.booking.com/hotel/fr/appartement-p...</td>\n",
       "      <td>9.3</td>\n",
       "      <td>Situé à Rouen, en Haute-Normandie, à proximité...</td>\n",
       "      <td>49.442900</td>\n",
       "      <td>1.087377</td>\n",
       "      <td>Rouen</td>\n",
       "      <td>49.440459</td>\n",
       "      <td>1.093966</td>\n",
       "      <td>4.2</td>\n",
       "      <td>0.0</td>\n",
       "      <td>Cloudly</td>\n",
       "    </tr>\n",
       "    <tr>\n",
       "      <th>4</th>\n",
       "      <td>1</td>\n",
       "      <td>Duplex Saint Malo Saint Servan plage à 100m In...</td>\n",
       "      <td>https://www.booking.com/hotel/fr/duplex-saint-...</td>\n",
       "      <td>9.3</td>\n",
       "      <td>Doté d'une connexion Wi-Fi gratuite, le Rance ...</td>\n",
       "      <td>48.640932</td>\n",
       "      <td>-2.017990</td>\n",
       "      <td>St Malo</td>\n",
       "      <td>48.649518</td>\n",
       "      <td>-2.026041</td>\n",
       "      <td>5.1</td>\n",
       "      <td>0.0</td>\n",
       "      <td>Cloudly</td>\n",
       "    </tr>\n",
       "  </tbody>\n",
       "</table>\n",
       "</div>"
      ],
      "text/plain": [
       "   id_city                                         hotel_name  \\\n",
       "0        0                 Au Mont Chez Nous Jaccuzi et Sauna   \n",
       "1        1  Le PETIT SILLON - Joli T2 rénové - VUE MER - 1...   \n",
       "2        3                  Sweet Home - Chic & Cosy - 4 pers   \n",
       "3        4                  Appartement place du vieux marché   \n",
       "4        1  Duplex Saint Malo Saint Servan plage à 100m In...   \n",
       "\n",
       "                                                 url  score  \\\n",
       "0  https://www.booking.com/hotel/fr/26-route-de-l...    9.2   \n",
       "1  https://www.booking.com/hotel/fr/le-petit-sill...    8.2   \n",
       "2  https://www.booking.com/hotel/fr/sweet-home-ch...    8.8   \n",
       "3  https://www.booking.com/hotel/fr/appartement-p...    9.3   \n",
       "4  https://www.booking.com/hotel/fr/duplex-saint-...    9.3   \n",
       "\n",
       "                                                text  lat_hotel  lon_hotel  \\\n",
       "0  La Résidence Fleurdumont vous propose un héber...  48.613455  -1.485872   \n",
       "1  Situé à Saint-Malo, à seulement 1 km de la pla...  48.654751  -2.006933   \n",
       "2  Le Cocon Perret - Plage du Havre - Design & Mo...  49.498222   0.121556   \n",
       "3  Situé à Rouen, en Haute-Normandie, à proximité...  49.442900   1.087377   \n",
       "4  Doté d'une connexion Wi-Fi gratuite, le Rance ...  48.640932  -2.017990   \n",
       "\n",
       "              cities   latitude  longitude  temp  rain  weather  \n",
       "0  Mont Saint Michel  48.635954  -1.511460   5.0   0.0      Fog  \n",
       "1            St Malo  48.649518  -2.026041   5.1   0.0  Cloudly  \n",
       "2           Le Havre  49.493898   0.107973   5.5   0.0  Cloudly  \n",
       "3              Rouen  49.440459   1.093966   4.2   0.0  Cloudly  \n",
       "4            St Malo  48.649518  -2.026041   5.1   0.0  Cloudly  "
      ]
     },
     "execution_count": 33,
     "metadata": {},
     "output_type": "execute_result"
    }
   ],
   "source": [
    "# check the data\n",
    "kayak_S3.head()"
   ]
  },
  {
   "cell_type": "code",
   "execution_count": 34,
   "metadata": {},
   "outputs": [
    {
     "name": "stdout",
     "output_type": "stream",
     "text": [
      "2023-02-02 10:07:43,073 INFO sqlalchemy.engine.Engine select pg_catalog.version()\n",
      "2023-02-02 10:07:43,074 INFO sqlalchemy.engine.Engine [raw sql] {}\n",
      "2023-02-02 10:07:43,262 INFO sqlalchemy.engine.Engine select current_schema()\n",
      "2023-02-02 10:07:43,263 INFO sqlalchemy.engine.Engine [raw sql] {}\n",
      "2023-02-02 10:07:43,453 INFO sqlalchemy.engine.Engine show standard_conforming_strings\n",
      "2023-02-02 10:07:43,454 INFO sqlalchemy.engine.Engine [raw sql] {}\n",
      "2023-02-02 10:07:43,642 INFO sqlalchemy.engine.Engine select relname from pg_class c join pg_namespace n on n.oid=c.relnamespace where pg_catalog.pg_table_is_visible(c.oid) and relname=%(name)s\n",
      "2023-02-02 10:07:43,643 INFO sqlalchemy.engine.Engine [generated in 0.00141s] {'name': 'database-kayak'}\n",
      "2023-02-02 10:07:43,929 INFO sqlalchemy.engine.Engine BEGIN (implicit)\n",
      "2023-02-02 10:07:43,931 INFO sqlalchemy.engine.Engine \n",
      "CREATE TABLE \"database-kayak\" (\n",
      "\tindex BIGINT, \n",
      "\tid_city BIGINT, \n",
      "\thotel_name TEXT, \n",
      "\turl TEXT, \n",
      "\tscore FLOAT(53), \n",
      "\ttext TEXT, \n",
      "\tlat_hotel FLOAT(53), \n",
      "\tlon_hotel FLOAT(53), \n",
      "\tcities TEXT, \n",
      "\tlatitude FLOAT(53), \n",
      "\tlongitude FLOAT(53), \n",
      "\ttemp FLOAT(53), \n",
      "\train FLOAT(53), \n",
      "\tweather TEXT\n",
      ")\n",
      "\n",
      "\n",
      "2023-02-02 10:07:43,932 INFO sqlalchemy.engine.Engine [no key 0.00105s] {}\n",
      "2023-02-02 10:07:44,160 INFO sqlalchemy.engine.Engine CREATE INDEX \"ix_database-kayak_index\" ON \"database-kayak\" (index)\n",
      "2023-02-02 10:07:44,161 INFO sqlalchemy.engine.Engine [no key 0.00107s] {}\n",
      "2023-02-02 10:07:44,274 INFO sqlalchemy.engine.Engine COMMIT\n",
      "2023-02-02 10:07:44,373 INFO sqlalchemy.engine.Engine BEGIN (implicit)\n",
      "2023-02-02 10:07:44,382 INFO sqlalchemy.engine.Engine INSERT INTO \"database-kayak\" (index, id_city, hotel_name, url, score, text, lat_hotel, lon_hotel, cities, latitude, longitude, temp, rain, weather) VALUES (%(index)s, %(id_city)s, %(hotel_name)s, %(url)s, %(score)s, %(text)s, %(lat_hotel)s, %(lon_hotel)s, %(cities)s, %(latitude)s, %(longitude)s, %(temp)s, %(rain)s, %(weather)s)\n",
      "2023-02-02 10:07:44,384 INFO sqlalchemy.engine.Engine [generated in 0.00625s] ({'index': 0, 'id_city': 0, 'hotel_name': 'Au Mont Chez Nous Jaccuzi et Sauna', 'url': 'https://www.booking.com/hotel/fr/26-route-de-la-rive-ardevon.fr.html?aid=304142&label=gen173bo-1DCAQoggJCGHNlYXJjaF9tb250IHNhaW50IG1pY2hlbEgNWANoTYgB ... (158 characters truncated) ... _rooms=1&group_children=0&req_children=0&hpos=23&hapos=23&sr_order=popularity&srpvid=cc3b943f900000e5&srepoch=1675112703&from=searchresults#hotelTmpl', 'score': 9.2, 'text': 'La Résidence Fleurdumont vous propose un hébergement accueillant volontiers les animaux domestiques. Il est situé à Beauvoir, à 4,4 km de l’abbaye du Mont-Saint-Michel. ', 'lat_hotel': 48.6134553, 'lon_hotel': -1.4858723, 'cities': 'Mont Saint Michel', 'latitude': 48.6359541, 'longitude': -1.511459954959514, 'temp': 5.0, 'rain': 0.0, 'weather': 'Fog'}, {'index': 1, 'id_city': 1, 'hotel_name': 'Le PETIT SILLON - Joli T2 rénové - VUE MER - 1 place de parking', 'url': 'https://www.booking.com/hotel/fr/le-petit-sillon-joli-t2-renove-vue-mer-1-place-de-parking.fr.html?aid=304142&label=gen173bo-1DCAQoggJCDnNlYXJjaF9zdC ... (191 characters truncated) ... hildren=0&req_children=0&hpos=18&hapos=18&sr_order=popularity&srpvid=9c1c94405b6a0156&srepoch=1675112705&from_beach_sr=1&from=searchresults#hotelTmpl', 'score': 8.2, 'text': \"Situé à Saint-Malo, à seulement 1 km de la plage du Sillon, l'établissement Le Bigorneau, beach at 20m and free private carpark propose des hébergements avec vue sur la ville. \", 'lat_hotel': 48.654751, 'lon_hotel': -2.006933, 'cities': 'St Malo', 'latitude': 48.649518, 'longitude': -2.0260409, 'temp': 5.1, 'rain': 0.0, 'weather': 'Cloudly'}, {'index': 2, 'id_city': 3, 'hotel_name': 'Sweet Home - Chic & Cosy - 4 pers', 'url': 'https://www.booking.com/hotel/fr/sweet-home-chic-amp-cosy-4-pers.fr.html?aid=304142&label=gen173bo-1DCAQoggJCD3NlYXJjaF9sZSBoYXZyZUgNWANoTYgBAZgBDbgB ... (166 characters truncated) ... hildren=0&req_children=0&hpos=22&hapos=22&sr_order=popularity&srpvid=f0f194407065024b&srepoch=1675112707&from_beach_sr=1&from=searchresults#hotelTmpl', 'score': 8.8, 'text': \"Le Cocon Perret - Plage du Havre - Design & Moderne est situé au Havre, dans le quartier de Perret, à 1,2 km de la plage du Havre, à 400 mètres de l'église Saint-Joseph et à 800 mètres du Volcan. \", 'lat_hotel': 49.4982218, 'lon_hotel': 0.1215558, 'cities': 'Le Havre', 'latitude': 49.4938975, 'longitude': 0.1079732, 'temp': 5.5, 'rain': 0.0, 'weather': 'Cloudly'}, {'index': 3, 'id_city': 4, 'hotel_name': 'Appartement place du vieux marché', 'url': 'https://www.booking.com/hotel/fr/appartement-place-du-vieux-marche.fr.html?aid=304142&label=gen173bo-1DCAQoggJCDHNlYXJjaF9yb3VlbkgNWANoTYgBAZgBDbgBGM ... (148 characters truncated) ... _rooms=1&group_children=0&req_children=0&hpos=14&hapos=14&sr_order=popularity&srpvid=a53d944119760033&srepoch=1675112708&from=searchresults#hotelTmpl', 'score': 9.3, 'text': \"Situé à Rouen, en Haute-Normandie, à proximité de la cathédrale Notre-Dame et de la gare de Rouen Rive Droite, l'Appartements Up & Down by Beds76 propose des hébergements avec connexion Wi-Fi et...\", 'lat_hotel': 49.4428999, 'lon_hotel': 1.087377, 'cities': 'Rouen', 'latitude': 49.4404591, 'longitude': 1.0939658, 'temp': 4.2, 'rain': 0.0, 'weather': 'Cloudly'}, {'index': 4, 'id_city': 1, 'hotel_name': 'Duplex Saint Malo Saint Servan plage à 100m Intra Muros à 7min à pied', 'url': 'https://www.booking.com/hotel/fr/duplex-saint-malo-saint-servan-plage-a-100m-intra-muros-a-7min-a-pied.fr.html?aid=304142&label=gen173bo-1DCAQoggJCDn ... (203 characters truncated) ... hildren=0&req_children=0&hpos=17&hapos=17&sr_order=popularity&srpvid=9c1c94405b6a0156&srepoch=1675112705&from_beach_sr=1&from=searchresults#hotelTmpl', 'score': 9.3, 'text': \"Doté d'une connexion Wi-Fi gratuite, le Rance solidor ter est situé dans le centre de Saint-Malo, à moins de 300 mètres de la plage des Bas-Sablons et à 1,5 km de la plage des Fours à Chaux. \", 'lat_hotel': 48.64093233, 'lon_hotel': -2.01799012, 'cities': 'St Malo', 'latitude': 48.649518, 'longitude': -2.0260409, 'temp': 5.1, 'rain': 0.0, 'weather': 'Cloudly'}, {'index': 5, 'id_city': 4, 'hotel_name': 'Jasmin', 'url': 'https://www.booking.com/hotel/fr/jasmin-rouen.fr.html?aid=304142&label=gen173bo-1DCAQoggJCDHNlYXJjaF9yb3VlbkgNWANoTYgBAZgBDbgBGMgBDNgBA-gBAfgBA4gCAZg ... (127 characters truncated) ... _rooms=1&group_children=0&req_children=0&hpos=18&hapos=18&sr_order=popularity&srpvid=a53d944119760033&srepoch=1675112708&from=searchresults#hotelTmpl', 'score': 9.1, 'text': \"Hyper centre - Wifi - Sauna GLAMOUR CHIC ROUEN est idéalement situé dans le centre de Rouen et dispose d'une terrasse. \", 'lat_hotel': 49.43168484, 'lon_hotel': 1.08609305, 'cities': 'Rouen', 'latitude': 49.4404591, 'longitude': 1.0939658, 'temp': 4.2, 'rain': 0.0, 'weather': 'Cloudly'}, {'index': 6, 'id_city': 6, 'hotel_name': 'Perle de la somme - Parking - Gare - Amiens - vue', 'url': 'https://www.booking.com/hotel/fr/perle-de-la-somme.fr.html?aid=304142&label=gen173bo-1DCAQoggJCDXNlYXJjaF9hbWllbnNIDVgDaE2IAQGYAQ24ARjIAQzYAQPoAQH4AQ ... (133 characters truncated) ... _rooms=1&group_children=0&req_children=0&hpos=17&hapos=17&sr_order=popularity&srpvid=f25c9441c3470241&srepoch=1675112708&from=searchresults#hotelTmpl', 'score': 9.4, 'text': \"L'AMIENS: Hyper centre est situé à Amiens, à 600 mètres de la gare, à 4,1 km du Zénith et à 1,2 km du parc des jardins flottants. \", 'lat_hotel': 49.898807, 'lon_hotel': 2.313438, 'cities': 'Amiens', 'latitude': 49.8941708, 'longitude': 2.2956951, 'temp': 3.7, 'rain': 0.0, 'weather': 'Cloudly'}, {'index': 7, 'id_city': 7, 'hotel_name': \"Appart' Grand'Place\", 'url': 'https://www.booking.com/hotel/fr/appart-39-grand-39-place.fr.html?aid=304142&label=gen173bo-1DCAQoggJCDHNlYXJjaF9saWxsZUgNWANoTYgBAZgBDbgBGMgBDNgBA-g ... (139 characters truncated) ... _rooms=1&group_children=0&req_children=0&hpos=18&hapos=18&sr_order=popularity&srpvid=b46d944299170034&srepoch=1675112709&from=searchresults#hotelTmpl', 'score': 7.8, 'text': \"L'Hotel Chagnot est situé dans le centre-ville de Lille, juste en face de la gare de Lille-Flandres et à 10 minutes à pied de la gare de Lille-Europe. \", 'lat_hotel': 50.6358375, 'lon_hotel': 3.0641362, 'cities': 'Lille', 'latitude': 50.6365654, 'longitude': 3.0635282, 'temp': 3.4, 'rain': 0.0, 'weather': 'Cloudly'}  ... displaying 10 of 648 total bound parameter sets ...  {'index': 646, 'id_city': 16, 'hotel_name': 'DIFY Vaise - Quartier Valmy', 'url': 'https://www.booking.com/hotel/fr/dify-vaise-quartier-valmy.fr.html?aid=304142&label=gen173bo-1DCAQoggJCC3NlYXJjaF9seW9uSA1YA2hNiAEBmAENuAEYyAEM2AED6A ... (139 characters truncated) ... _rooms=1&group_children=0&req_children=0&hpos=17&hapos=17&sr_order=popularity&srpvid=8f8295be3d4d03f1&srepoch=1675113469&from=searchresults#hotelTmpl', 'score': 8.5, 'text': \"Le Cozy loft dans l'hyper centre de lyon propose un hébergement avec connexion Wi-Fi gratuite à Lyon, à 800 mètres du musée Miniature et Cinéma, à 1,6 km du théâtre romain de Fourvière et à 1,4 km de...\", 'lat_hotel': 45.77454115, 'lon_hotel': 4.80721308, 'cities': 'Lyon', 'latitude': 45.7578137, 'longitude': 4.8320114, 'temp': 3.1, 'rain': 0.1, 'weather': 'Cloudly'}, {'index': 647, 'id_city': 16, 'hotel_name': 'La marionnette du plateau', 'url': 'https://www.booking.com/hotel/fr/la-marionnette-du-plateau.fr.html?aid=304142&label=gen173bo-1DCAQoggJCC3NlYXJjaF9seW9uSA1YA2hNiAEBmAENuAEYyAEM2AED6A ... (139 characters truncated) ... _rooms=1&group_children=0&req_children=0&hpos=16&hapos=16&sr_order=popularity&srpvid=8f8295be3d4d03f1&srepoch=1675113469&from=searchresults#hotelTmpl', 'score': 8.1, 'text': 'Situated in Lyon, 3.4 km from Fourviere Roman Theatre and 3.8 km from Basilica of Notre-Dame de Fourviere, DIFY Vaise - Quartier Valmy provides accommodation with amenities such as free WiFi and a TV....', 'lat_hotel': 45.77702123, 'lon_hotel': 4.83231513, 'cities': 'Lyon', 'latitude': 45.7578137, 'longitude': 4.8320114, 'temp': 3.1, 'rain': 0.1, 'weather': 'Cloudly'})\n",
      "2023-02-02 10:07:45,275 INFO sqlalchemy.engine.Engine COMMIT\n"
     ]
    },
    {
     "data": {
      "text/plain": [
       "648"
      ]
     },
     "execution_count": 34,
     "metadata": {},
     "output_type": "execute_result"
    }
   ],
   "source": [
    "# create sql database\n",
    "kayak_S3.to_sql(\n",
    "    \"database-kayak\",\n",
    "    engine\n",
    ")"
   ]
  },
  {
   "attachments": {},
   "cell_type": "markdown",
   "metadata": {},
   "source": [
    "Ploting the 20 hotel for the 5 best cities"
   ]
  },
  {
   "cell_type": "code",
   "execution_count": 35,
   "metadata": {},
   "outputs": [],
   "source": [
    "# the Top 5 best cities from cities_weather.ipynb\n",
    "best_5 = ['Bormes les Mimosas', 'Cassis', 'Le Havre', 'Aigues Mortes','Collioure']"
   ]
  },
  {
   "cell_type": "code",
   "execution_count": 36,
   "metadata": {},
   "outputs": [],
   "source": [
    "best_hotel = kayak_S3.loc[kayak_S3['cities'].isin(best_5)]\n"
   ]
  },
  {
   "cell_type": "code",
   "execution_count": 37,
   "metadata": {},
   "outputs": [
    {
     "data": {
      "text/html": [
       "<div>\n",
       "<style scoped>\n",
       "    .dataframe tbody tr th:only-of-type {\n",
       "        vertical-align: middle;\n",
       "    }\n",
       "\n",
       "    .dataframe tbody tr th {\n",
       "        vertical-align: top;\n",
       "    }\n",
       "\n",
       "    .dataframe thead th {\n",
       "        text-align: right;\n",
       "    }\n",
       "</style>\n",
       "<table border=\"1\" class=\"dataframe\">\n",
       "  <thead>\n",
       "    <tr style=\"text-align: right;\">\n",
       "      <th></th>\n",
       "      <th>id_city</th>\n",
       "      <th>hotel_name</th>\n",
       "      <th>url</th>\n",
       "      <th>score</th>\n",
       "      <th>text</th>\n",
       "      <th>lat_hotel</th>\n",
       "      <th>lon_hotel</th>\n",
       "      <th>cities</th>\n",
       "      <th>latitude</th>\n",
       "      <th>longitude</th>\n",
       "      <th>temp</th>\n",
       "      <th>rain</th>\n",
       "      <th>weather</th>\n",
       "    </tr>\n",
       "  </thead>\n",
       "  <tbody>\n",
       "    <tr>\n",
       "      <th>2</th>\n",
       "      <td>3</td>\n",
       "      <td>Sweet Home - Chic &amp; Cosy - 4 pers</td>\n",
       "      <td>https://www.booking.com/hotel/fr/sweet-home-ch...</td>\n",
       "      <td>8.8</td>\n",
       "      <td>Le Cocon Perret - Plage du Havre - Design &amp; Mo...</td>\n",
       "      <td>49.498222</td>\n",
       "      <td>0.121556</td>\n",
       "      <td>Le Havre</td>\n",
       "      <td>49.493898</td>\n",
       "      <td>0.107973</td>\n",
       "      <td>5.5</td>\n",
       "      <td>0.0</td>\n",
       "      <td>Cloudly</td>\n",
       "    </tr>\n",
       "    <tr>\n",
       "      <th>232</th>\n",
       "      <td>3</td>\n",
       "      <td>L'indigo - Hypercentre - 4 personnes</td>\n",
       "      <td>https://www.booking.com/hotel/fr/l-39-indigo-h...</td>\n",
       "      <td>8.0</td>\n",
       "      <td>L'ibis Le Havre Centre est situé dans le centr...</td>\n",
       "      <td>49.491883</td>\n",
       "      <td>0.104128</td>\n",
       "      <td>Le Havre</td>\n",
       "      <td>49.493898</td>\n",
       "      <td>0.107973</td>\n",
       "      <td>5.5</td>\n",
       "      <td>0.0</td>\n",
       "      <td>Cloudly</td>\n",
       "    </tr>\n",
       "    <tr>\n",
       "      <th>235</th>\n",
       "      <td>3</td>\n",
       "      <td>Les chambres du Chat Perché</td>\n",
       "      <td>https://www.booking.com/hotel/fr/les-chambres-...</td>\n",
       "      <td>8.4</td>\n",
       "      <td>Doté d'une terrasse, l'Appartement COSY - City...</td>\n",
       "      <td>49.499490</td>\n",
       "      <td>0.106418</td>\n",
       "      <td>Le Havre</td>\n",
       "      <td>49.493898</td>\n",
       "      <td>0.107973</td>\n",
       "      <td>5.5</td>\n",
       "      <td>0.0</td>\n",
       "      <td>Cloudly</td>\n",
       "    </tr>\n",
       "    <tr>\n",
       "      <th>236</th>\n",
       "      <td>3</td>\n",
       "      <td>LE PARADIS HAVRAIS</td>\n",
       "      <td>https://www.booking.com/hotel/fr/le-paradis-ha...</td>\n",
       "      <td>8.7</td>\n",
       "      <td>Le Sweet Home - Chic &amp; Cosy - 4 pers propose u...</td>\n",
       "      <td>49.500425</td>\n",
       "      <td>0.136327</td>\n",
       "      <td>Le Havre</td>\n",
       "      <td>49.493898</td>\n",
       "      <td>0.107973</td>\n",
       "      <td>5.5</td>\n",
       "      <td>0.0</td>\n",
       "      <td>Cloudly</td>\n",
       "    </tr>\n",
       "    <tr>\n",
       "      <th>241</th>\n",
       "      <td>3</td>\n",
       "      <td>Quai Notre Dame</td>\n",
       "      <td>https://www.booking.com/hotel/fr/quai-notre-da...</td>\n",
       "      <td>8.1</td>\n",
       "      <td>Situé au Havre, à moins de 1 km de la plage du...</td>\n",
       "      <td>49.487571</td>\n",
       "      <td>0.110875</td>\n",
       "      <td>Le Havre</td>\n",
       "      <td>49.493898</td>\n",
       "      <td>0.107973</td>\n",
       "      <td>5.5</td>\n",
       "      <td>0.0</td>\n",
       "      <td>Cloudly</td>\n",
       "    </tr>\n",
       "  </tbody>\n",
       "</table>\n",
       "</div>"
      ],
      "text/plain": [
       "     id_city                            hotel_name  \\\n",
       "2          3     Sweet Home - Chic & Cosy - 4 pers   \n",
       "232        3  L'indigo - Hypercentre - 4 personnes   \n",
       "235        3           Les chambres du Chat Perché   \n",
       "236        3                    LE PARADIS HAVRAIS   \n",
       "241        3                       Quai Notre Dame   \n",
       "\n",
       "                                                   url  score  \\\n",
       "2    https://www.booking.com/hotel/fr/sweet-home-ch...    8.8   \n",
       "232  https://www.booking.com/hotel/fr/l-39-indigo-h...    8.0   \n",
       "235  https://www.booking.com/hotel/fr/les-chambres-...    8.4   \n",
       "236  https://www.booking.com/hotel/fr/le-paradis-ha...    8.7   \n",
       "241  https://www.booking.com/hotel/fr/quai-notre-da...    8.1   \n",
       "\n",
       "                                                  text  lat_hotel  lon_hotel  \\\n",
       "2    Le Cocon Perret - Plage du Havre - Design & Mo...  49.498222   0.121556   \n",
       "232  L'ibis Le Havre Centre est situé dans le centr...  49.491883   0.104128   \n",
       "235  Doté d'une terrasse, l'Appartement COSY - City...  49.499490   0.106418   \n",
       "236  Le Sweet Home - Chic & Cosy - 4 pers propose u...  49.500425   0.136327   \n",
       "241  Situé au Havre, à moins de 1 km de la plage du...  49.487571   0.110875   \n",
       "\n",
       "       cities   latitude  longitude  temp  rain  weather  \n",
       "2    Le Havre  49.493898   0.107973   5.5   0.0  Cloudly  \n",
       "232  Le Havre  49.493898   0.107973   5.5   0.0  Cloudly  \n",
       "235  Le Havre  49.493898   0.107973   5.5   0.0  Cloudly  \n",
       "236  Le Havre  49.493898   0.107973   5.5   0.0  Cloudly  \n",
       "241  Le Havre  49.493898   0.107973   5.5   0.0  Cloudly  "
      ]
     },
     "execution_count": 37,
     "metadata": {},
     "output_type": "execute_result"
    }
   ],
   "source": [
    "best_hotel.head()"
   ]
  },
  {
   "cell_type": "code",
   "execution_count": 38,
   "metadata": {},
   "outputs": [
    {
     "data": {
      "application/vnd.plotly.v1+json": {
       "config": {
        "plotlyServerURL": "https://plot.ly"
       },
       "data": [
        {
         "hovertemplate": "<b>%{hovertext}</b><br><br>temp=%{marker.size}<br>lat_hotel=%{lat}<br>lon_hotel=%{lon}<br>score=%{marker.color}<extra></extra>",
         "hovertext": [
          "Sweet Home - Chic & Cosy - 4 pers",
          "L'indigo - Hypercentre - 4 personnes",
          "Les chambres du Chat Perché",
          "LE PARADIS HAVRAIS",
          "Quai Notre Dame",
          "L'ancre, Studio Perret vue mer.",
          "Holiday Inn Express - Le Havre Centre",
          "M.A.H 2 Le calme en hyper centre magnifique",
          "Le Havre - Tourneville, superbe T3, balcon/parking",
          "F3 avec terrasse et alarme.",
          "Hilton Garden Inn Le Havre Centre",
          "LA PARENTHÈSE HAVRAISE - Parking privé Plein centre & Très calme",
          "Jetez l'encre - Appt 3 chambres Graville",
          "The Originals Boutique, Hôtel Le Marignan,Le Havre Centre Gare",
          "Appartement cosy, Hôtel de ville",
          "Le Valmer",
          "Patchouli Le Havre appartement 100m2, plage à 500m !!",
          "Vue mer plage 60m2 - 4pers - Garage privatif",
          "Charmant et Atypique T3 proche centre ville",
          "LeThamyris - HYPER CENTRE avec Parking privé",
          "Le charme de l ancien entre mer et ville",
          "Appartement Rénové, 100 m de la gare, 83 m2, 5 Pers, Confortable et Lumineux",
          "4AIG101 confortable T2 avec terrasse sur les hauteurs de Collioure",
          "11 le tadorne",
          "La Demeure Insoupçonnée",
          "Le Mirage",
          "The Little House",
          "Village Vacances La Manne",
          "Oustaou di Ercole",
          "Studio clim wifi centre historique de Bormes les Mimosas",
          "Oustaou di Ercole",
          "FACE MER ENTRE PLAGE ET MARINA",
          "SELECT'SO HOME - Résidence Le Poséidon - Piscine & Parking - Prestations de qualité & Services Hôteliers - POS03",
          "Mer et soleil",
          "Charmant T2 - plein coeur de village médiéval",
          "La Lavandière",
          "A deux pas de la plage de la Faviere - Parking privé",
          "Hôtel Paradis",
          "SELECT'SO HOME - Résidence Le Poséidon - Mazet en Duplex - Prestations de qualité & Services Hôteliers - POS-A",
          "Les deux mas",
          "maison de vacances Médiévale Bormes-les-Mimosas village",
          "Lilie House",
          "Le Galet de Cassis by K6&you",
          "Villa Cassis",
          "La petite cigale by K6conciergerie",
          "Le Canaio Upper Club par Dodo-a-Cassis",
          "LE SEPT charmant studio aux portes des calanques",
          "Le Bellavista",
          "Home Cassis - Maison Mediterrannee - Piscine chauffée",
          "Appart Bianca T2 - Terrasse - Parking - Calme - 1mn de la mer",
          "vue cap canaille et proche centre",
          "Le Rooftop par Dodo-a-Cassis",
          "Magnifique Appartement à Cassis,Parking,2 pas du Port",
          "Au son des Cigales",
          "AU BORD DE L'EAU Studio climatisé avec Terrasse et vue mer à 40m de la plage",
          "Hotel Le Golfe",
          "Villa Bobnell",
          "Sleep in Cassis",
          "Calanque",
          "LA RADE - Centre Ville - Balcon - Clim - Neuf",
          "Seaview.Cassis",
          "Astoria Villa maison d hôtes Appartement vue mer avec piscine",
          "Studio refait à neuf avec jardin Aigues Mortes",
          "Résidence Odalys Fleur de Sel",
          "Au Cœur des Remparts",
          "Awesome home in Aigues-Mortes with 3 Bedrooms and WiFi",
          "Résidence Odalys Le Mas des Flamants",
          "Hôtel Saint Louis",
          "appartement n2 centre village, clim, parking gratuit",
          "AIGUES MARINES",
          "Noemys Aigues-Mortes - ex Mona Lisa Royal Hôtel",
          "Maison Aigues-Mortes 8 couchages",
          "Appartement centre village, clim et parking gratuit",
          "Nice home in Aigues-Mortes with 3 Bedrooms and WiFi",
          "La maison de Marie, maison de ville 4 personnes, option chambre patio 2 pers supp",
          "la cabane du saunier Stella - Etang du Roy",
          "La Villa Mazarin",
          "CABANE DU SAUNIER MAIA ETANG DU ROY",
          "Nouveau! Magnifique appartement climatisé",
          "le dit vin secret",
          "Lou Mirèio",
          "Appartement moderne tout confort, idéalement placé",
          "T3 Hippocampe -Jardin -Piscine -Garage -Clim",
          "Magnifique appartement proche centre Collioure",
          "Hôtel La Casa Pairal",
          "Ibanova Appartements",
          "La Chambre De Salome",
          "Appartement neuf, 128 m², 3 terrasses",
          "André DERAIN",
          "Studio Centre Plage parking gratuit",
          "Boramar",
          "Mas de la Croette Collioure",
          "La Casa Machado 2",
          "Appartement Les Pieds dans l'eau",
          "Maison T4 Horizon _ Vue mer _ Piscine _ Parking",
          "El Mayul 2' centre, plage, WiFi, au calme, clim, parking,",
          "AZUR-Les pieds dans l'eau-Vue sur Mer et Clocher de Collioure en toile de fond - WIFI - PARKING",
          "T5 Corail - Centre - Rooftop - Barbecue - Parking",
          "appart central et son parking privatif gratuit",
          "Hôtel Princes de Catalogne",
          "Hôtel la Bona Casa",
          "Les Roches Brunes"
         ],
         "lat": [
          49.4982218,
          49.4918831,
          49.49948951,
          49.5004254,
          49.4875707,
          49.486642,
          49.498238,
          49.4867741,
          49.5043582,
          49.4956837,
          49.49008699,
          49.496836,
          49.501411,
          49.49227908,
          49.4987217,
          49.50123653,
          49.4929836,
          49.4959695,
          49.500888,
          49.4932476,
          49.4962963,
          49.4923644,
          42.526852,
          43.5716095,
          43.2191999,
          43.14456855,
          43.15036081,
          43.13043806,
          43.1496567,
          43.15036057,
          43.14957041,
          43.12212055,
          43.12415,
          43.12559147,
          43.1508088,
          43.1438549,
          43.1233576,
          43.144686,
          43.12415,
          43.14393659,
          43.15038674,
          43.1509034,
          43.21341379,
          43.21150506,
          43.2146968,
          43.21775754,
          43.2175997,
          43.21591714,
          43.21977635,
          43.207747,
          43.2162145,
          43.21445789,
          43.216323,
          43.21508678,
          43.21270692,
          43.21443438,
          43.2204519,
          43.21351435,
          43.22082659,
          43.21500806,
          43.2144315,
          43.211728,
          43.57047163,
          43.574094,
          43.565401,
          43.573889,
          43.57379435,
          43.56721967,
          43.5672407,
          43.558937,
          43.57639589,
          43.5720711,
          43.56724459,
          43.5754,
          43.56689178,
          43.5793021,
          43.56498662,
          43.5575394,
          43.5656945,
          43.566769,
          43.56607498,
          43.567701,
          42.5264876,
          42.52182,
          42.52616733,
          42.5231333,
          42.5211169,
          42.52225723,
          42.5209193,
          42.52298768,
          42.527543,
          42.5217335,
          42.52615566,
          42.52370617,
          42.5227263,
          42.5222227,
          42.52404982,
          42.5267892,
          42.52488242,
          42.52591431,
          42.52547153,
          42.52534777
         ],
         "legendgroup": "",
         "lon": [
          0.1215558,
          0.1041285,
          0.10641825,
          0.1363266,
          0.1108754,
          0.1112206,
          0.128837,
          0.139975,
          0.1256524,
          0.1261076,
          0.09774696,
          0.1068932,
          0.149147,
          0.12310803,
          0.1074139,
          0.11174429,
          0.1046465,
          0.0950445,
          0.1459604,
          0.1182864,
          0.0992278,
          0.1226079,
          3.076323,
          4.1895776,
          5.5471365,
          6.35168418,
          6.34220201,
          6.33633699,
          6.3018207,
          6.34262603,
          6.30204835,
          6.36269069,
          6.351192,
          6.35555415,
          6.3411881,
          6.3518156,
          6.3528506,
          6.335125,
          6.351192,
          6.33632324,
          6.34269357,
          6.3419325,
          5.54048885,
          5.52610226,
          5.53976101,
          5.53861258,
          5.53235,
          5.53875225,
          5.53745873,
          5.5221918,
          5.54492038,
          5.5377789,
          5.536496,
          5.53094902,
          5.53025561,
          5.53529486,
          5.5360908,
          5.53970045,
          5.54138513,
          5.53519043,
          5.5350758,
          5.5286144,
          4.18334878,
          4.179246,
          4.192973,
          4.18694,
          4.18062186,
          4.1893436,
          4.1938007,
          4.218141,
          4.19781804,
          4.1935493,
          4.19366391,
          4.1871,
          4.19211567,
          4.2128337,
          4.19175196,
          4.1823967,
          4.19151132,
          4.189113,
          4.19257857,
          4.193413,
          3.0743694,
          3.0773047,
          3.08235571,
          3.0855761,
          3.07730913,
          3.07805223,
          3.0886571,
          3.08732966,
          3.085355,
          3.0728738,
          3.08223283,
          3.09836761,
          3.0926507,
          3.08572586,
          3.09655284,
          3.0805054,
          3.08187893,
          3.0826816,
          3.0826987,
          3.09032446
         ],
         "marker": {
          "color": [
           8.8,
           8,
           8.4,
           8.7,
           8.1,
           9.5,
           8.6,
           8.6,
           9,
           8.2,
           9,
           8.7,
           9.1,
           10,
           8,
           8.4,
           8.7,
           8.8,
           9.1,
           9,
           8.9,
           8.7,
           9.4,
           9.3,
           9,
           7.6,
           8.7,
           8.3,
           8.8,
           7.8,
           9.1,
           9.4,
           6.9,
           9.2,
           8.5,
           9.2,
           8.6,
           8.6,
           8,
           9.4,
           8.5,
           10,
           9.3,
           8.8,
           9.2,
           9.3,
           8.7,
           9.7,
           8,
           8.1,
           9,
           8.8,
           9.4,
           9,
           9.1,
           7.8,
           9.4,
           9,
           9.1,
           9,
           9.3,
           9.3,
           8.2,
           8.3,
           9.9,
           9.5,
           8,
           8.4,
           10,
           9.7,
           7,
           9,
           9,
           8,
           9.2,
           9.5,
           9.1,
           9.2,
           9.5,
           8.8,
           9.4,
           9.2,
           8,
           8.9,
           9,
           7.8,
           8.8,
           8.4,
           8.9,
           9.2,
           9.8,
           9,
           9.3,
           9.4,
           10,
           8.4,
           9.2,
           8,
           8.9,
           7.9,
           8.5,
           9.1
          ],
          "coloraxis": "coloraxis",
          "size": [
           5.5,
           5.5,
           5.5,
           5.5,
           5.5,
           5.5,
           5.5,
           5.5,
           5.5,
           5.5,
           5.5,
           5.5,
           5.5,
           5.5,
           5.5,
           5.5,
           5.5,
           5.5,
           5.5,
           5.5,
           5.5,
           5.5,
           5.4,
           5.4,
           6,
           6.3,
           6.3,
           6.3,
           6.3,
           6.3,
           6.3,
           6.3,
           6.3,
           6.3,
           6.3,
           6.3,
           6.3,
           6.3,
           6.3,
           6.3,
           6.3,
           6.3,
           6,
           6,
           6,
           6,
           6,
           6,
           6,
           6,
           6,
           6,
           6,
           6,
           6,
           6,
           6,
           6,
           6,
           6,
           6,
           6,
           5.4,
           5.4,
           5.4,
           5.4,
           5.4,
           5.4,
           5.4,
           5.4,
           5.4,
           5.4,
           5.4,
           5.4,
           5.4,
           5.4,
           5.4,
           5.4,
           5.4,
           5.4,
           5.4,
           5.4,
           5.4,
           5.4,
           5.4,
           5.4,
           5.4,
           5.4,
           5.4,
           5.4,
           5.4,
           5.4,
           5.4,
           5.4,
           5.4,
           5.4,
           5.4,
           5.4,
           5.4,
           5.4,
           5.4,
           5.4
          ],
          "sizemode": "area",
          "sizeref": 0.028
         },
         "mode": "markers",
         "name": "",
         "showlegend": false,
         "subplot": "mapbox",
         "type": "scattermapbox"
        }
       ],
       "layout": {
        "coloraxis": {
         "colorbar": {
          "title": {
           "text": "score"
          }
         },
         "colorscale": [
          [
           0,
           "#313131"
          ],
          [
           0.0625,
           "#3d019d"
          ],
          [
           0.125,
           "#3810dc"
          ],
          [
           0.1875,
           "#2d47f9"
          ],
          [
           0.25,
           "#2593ff"
          ],
          [
           0.3125,
           "#2adef6"
          ],
          [
           0.375,
           "#60fdfa"
          ],
          [
           0.4375,
           "#aefdff"
          ],
          [
           0.5,
           "#f3f3f1"
          ],
          [
           0.5625,
           "#fffda9"
          ],
          [
           0.625,
           "#fafd5b"
          ],
          [
           0.6875,
           "#f7da29"
          ],
          [
           0.75,
           "#ff8e25"
          ],
          [
           0.8125,
           "#f8432d"
          ],
          [
           0.875,
           "#d90d39"
          ],
          [
           0.9375,
           "#97023d"
          ],
          [
           1,
           "#313131"
          ]
         ]
        },
        "height": 650,
        "legend": {
         "itemsizing": "constant",
         "tracegroupgap": 0
        },
        "mapbox": {
         "center": {
          "lat": 44.487846245490196,
          "lon": 3.719978117352941
         },
         "domain": {
          "x": [
           0,
           1
          ],
          "y": [
           0,
           1
          ]
         },
         "style": "carto-positron",
         "zoom": 4.5
        },
        "template": {
         "data": {
          "bar": [
           {
            "error_x": {
             "color": "#2a3f5f"
            },
            "error_y": {
             "color": "#2a3f5f"
            },
            "marker": {
             "line": {
              "color": "#E5ECF6",
              "width": 0.5
             },
             "pattern": {
              "fillmode": "overlay",
              "size": 10,
              "solidity": 0.2
             }
            },
            "type": "bar"
           }
          ],
          "barpolar": [
           {
            "marker": {
             "line": {
              "color": "#E5ECF6",
              "width": 0.5
             },
             "pattern": {
              "fillmode": "overlay",
              "size": 10,
              "solidity": 0.2
             }
            },
            "type": "barpolar"
           }
          ],
          "carpet": [
           {
            "aaxis": {
             "endlinecolor": "#2a3f5f",
             "gridcolor": "white",
             "linecolor": "white",
             "minorgridcolor": "white",
             "startlinecolor": "#2a3f5f"
            },
            "baxis": {
             "endlinecolor": "#2a3f5f",
             "gridcolor": "white",
             "linecolor": "white",
             "minorgridcolor": "white",
             "startlinecolor": "#2a3f5f"
            },
            "type": "carpet"
           }
          ],
          "choropleth": [
           {
            "colorbar": {
             "outlinewidth": 0,
             "ticks": ""
            },
            "type": "choropleth"
           }
          ],
          "contour": [
           {
            "colorbar": {
             "outlinewidth": 0,
             "ticks": ""
            },
            "colorscale": [
             [
              0,
              "#0d0887"
             ],
             [
              0.1111111111111111,
              "#46039f"
             ],
             [
              0.2222222222222222,
              "#7201a8"
             ],
             [
              0.3333333333333333,
              "#9c179e"
             ],
             [
              0.4444444444444444,
              "#bd3786"
             ],
             [
              0.5555555555555556,
              "#d8576b"
             ],
             [
              0.6666666666666666,
              "#ed7953"
             ],
             [
              0.7777777777777778,
              "#fb9f3a"
             ],
             [
              0.8888888888888888,
              "#fdca26"
             ],
             [
              1,
              "#f0f921"
             ]
            ],
            "type": "contour"
           }
          ],
          "contourcarpet": [
           {
            "colorbar": {
             "outlinewidth": 0,
             "ticks": ""
            },
            "type": "contourcarpet"
           }
          ],
          "heatmap": [
           {
            "colorbar": {
             "outlinewidth": 0,
             "ticks": ""
            },
            "colorscale": [
             [
              0,
              "#0d0887"
             ],
             [
              0.1111111111111111,
              "#46039f"
             ],
             [
              0.2222222222222222,
              "#7201a8"
             ],
             [
              0.3333333333333333,
              "#9c179e"
             ],
             [
              0.4444444444444444,
              "#bd3786"
             ],
             [
              0.5555555555555556,
              "#d8576b"
             ],
             [
              0.6666666666666666,
              "#ed7953"
             ],
             [
              0.7777777777777778,
              "#fb9f3a"
             ],
             [
              0.8888888888888888,
              "#fdca26"
             ],
             [
              1,
              "#f0f921"
             ]
            ],
            "type": "heatmap"
           }
          ],
          "heatmapgl": [
           {
            "colorbar": {
             "outlinewidth": 0,
             "ticks": ""
            },
            "colorscale": [
             [
              0,
              "#0d0887"
             ],
             [
              0.1111111111111111,
              "#46039f"
             ],
             [
              0.2222222222222222,
              "#7201a8"
             ],
             [
              0.3333333333333333,
              "#9c179e"
             ],
             [
              0.4444444444444444,
              "#bd3786"
             ],
             [
              0.5555555555555556,
              "#d8576b"
             ],
             [
              0.6666666666666666,
              "#ed7953"
             ],
             [
              0.7777777777777778,
              "#fb9f3a"
             ],
             [
              0.8888888888888888,
              "#fdca26"
             ],
             [
              1,
              "#f0f921"
             ]
            ],
            "type": "heatmapgl"
           }
          ],
          "histogram": [
           {
            "marker": {
             "pattern": {
              "fillmode": "overlay",
              "size": 10,
              "solidity": 0.2
             }
            },
            "type": "histogram"
           }
          ],
          "histogram2d": [
           {
            "colorbar": {
             "outlinewidth": 0,
             "ticks": ""
            },
            "colorscale": [
             [
              0,
              "#0d0887"
             ],
             [
              0.1111111111111111,
              "#46039f"
             ],
             [
              0.2222222222222222,
              "#7201a8"
             ],
             [
              0.3333333333333333,
              "#9c179e"
             ],
             [
              0.4444444444444444,
              "#bd3786"
             ],
             [
              0.5555555555555556,
              "#d8576b"
             ],
             [
              0.6666666666666666,
              "#ed7953"
             ],
             [
              0.7777777777777778,
              "#fb9f3a"
             ],
             [
              0.8888888888888888,
              "#fdca26"
             ],
             [
              1,
              "#f0f921"
             ]
            ],
            "type": "histogram2d"
           }
          ],
          "histogram2dcontour": [
           {
            "colorbar": {
             "outlinewidth": 0,
             "ticks": ""
            },
            "colorscale": [
             [
              0,
              "#0d0887"
             ],
             [
              0.1111111111111111,
              "#46039f"
             ],
             [
              0.2222222222222222,
              "#7201a8"
             ],
             [
              0.3333333333333333,
              "#9c179e"
             ],
             [
              0.4444444444444444,
              "#bd3786"
             ],
             [
              0.5555555555555556,
              "#d8576b"
             ],
             [
              0.6666666666666666,
              "#ed7953"
             ],
             [
              0.7777777777777778,
              "#fb9f3a"
             ],
             [
              0.8888888888888888,
              "#fdca26"
             ],
             [
              1,
              "#f0f921"
             ]
            ],
            "type": "histogram2dcontour"
           }
          ],
          "mesh3d": [
           {
            "colorbar": {
             "outlinewidth": 0,
             "ticks": ""
            },
            "type": "mesh3d"
           }
          ],
          "parcoords": [
           {
            "line": {
             "colorbar": {
              "outlinewidth": 0,
              "ticks": ""
             }
            },
            "type": "parcoords"
           }
          ],
          "pie": [
           {
            "automargin": true,
            "type": "pie"
           }
          ],
          "scatter": [
           {
            "fillpattern": {
             "fillmode": "overlay",
             "size": 10,
             "solidity": 0.2
            },
            "type": "scatter"
           }
          ],
          "scatter3d": [
           {
            "line": {
             "colorbar": {
              "outlinewidth": 0,
              "ticks": ""
             }
            },
            "marker": {
             "colorbar": {
              "outlinewidth": 0,
              "ticks": ""
             }
            },
            "type": "scatter3d"
           }
          ],
          "scattercarpet": [
           {
            "marker": {
             "colorbar": {
              "outlinewidth": 0,
              "ticks": ""
             }
            },
            "type": "scattercarpet"
           }
          ],
          "scattergeo": [
           {
            "marker": {
             "colorbar": {
              "outlinewidth": 0,
              "ticks": ""
             }
            },
            "type": "scattergeo"
           }
          ],
          "scattergl": [
           {
            "marker": {
             "colorbar": {
              "outlinewidth": 0,
              "ticks": ""
             }
            },
            "type": "scattergl"
           }
          ],
          "scattermapbox": [
           {
            "marker": {
             "colorbar": {
              "outlinewidth": 0,
              "ticks": ""
             }
            },
            "type": "scattermapbox"
           }
          ],
          "scatterpolar": [
           {
            "marker": {
             "colorbar": {
              "outlinewidth": 0,
              "ticks": ""
             }
            },
            "type": "scatterpolar"
           }
          ],
          "scatterpolargl": [
           {
            "marker": {
             "colorbar": {
              "outlinewidth": 0,
              "ticks": ""
             }
            },
            "type": "scatterpolargl"
           }
          ],
          "scatterternary": [
           {
            "marker": {
             "colorbar": {
              "outlinewidth": 0,
              "ticks": ""
             }
            },
            "type": "scatterternary"
           }
          ],
          "surface": [
           {
            "colorbar": {
             "outlinewidth": 0,
             "ticks": ""
            },
            "colorscale": [
             [
              0,
              "#0d0887"
             ],
             [
              0.1111111111111111,
              "#46039f"
             ],
             [
              0.2222222222222222,
              "#7201a8"
             ],
             [
              0.3333333333333333,
              "#9c179e"
             ],
             [
              0.4444444444444444,
              "#bd3786"
             ],
             [
              0.5555555555555556,
              "#d8576b"
             ],
             [
              0.6666666666666666,
              "#ed7953"
             ],
             [
              0.7777777777777778,
              "#fb9f3a"
             ],
             [
              0.8888888888888888,
              "#fdca26"
             ],
             [
              1,
              "#f0f921"
             ]
            ],
            "type": "surface"
           }
          ],
          "table": [
           {
            "cells": {
             "fill": {
              "color": "#EBF0F8"
             },
             "line": {
              "color": "white"
             }
            },
            "header": {
             "fill": {
              "color": "#C8D4E3"
             },
             "line": {
              "color": "white"
             }
            },
            "type": "table"
           }
          ]
         },
         "layout": {
          "annotationdefaults": {
           "arrowcolor": "#2a3f5f",
           "arrowhead": 0,
           "arrowwidth": 1
          },
          "autotypenumbers": "strict",
          "coloraxis": {
           "colorbar": {
            "outlinewidth": 0,
            "ticks": ""
           }
          },
          "colorscale": {
           "diverging": [
            [
             0,
             "#8e0152"
            ],
            [
             0.1,
             "#c51b7d"
            ],
            [
             0.2,
             "#de77ae"
            ],
            [
             0.3,
             "#f1b6da"
            ],
            [
             0.4,
             "#fde0ef"
            ],
            [
             0.5,
             "#f7f7f7"
            ],
            [
             0.6,
             "#e6f5d0"
            ],
            [
             0.7,
             "#b8e186"
            ],
            [
             0.8,
             "#7fbc41"
            ],
            [
             0.9,
             "#4d9221"
            ],
            [
             1,
             "#276419"
            ]
           ],
           "sequential": [
            [
             0,
             "#0d0887"
            ],
            [
             0.1111111111111111,
             "#46039f"
            ],
            [
             0.2222222222222222,
             "#7201a8"
            ],
            [
             0.3333333333333333,
             "#9c179e"
            ],
            [
             0.4444444444444444,
             "#bd3786"
            ],
            [
             0.5555555555555556,
             "#d8576b"
            ],
            [
             0.6666666666666666,
             "#ed7953"
            ],
            [
             0.7777777777777778,
             "#fb9f3a"
            ],
            [
             0.8888888888888888,
             "#fdca26"
            ],
            [
             1,
             "#f0f921"
            ]
           ],
           "sequentialminus": [
            [
             0,
             "#0d0887"
            ],
            [
             0.1111111111111111,
             "#46039f"
            ],
            [
             0.2222222222222222,
             "#7201a8"
            ],
            [
             0.3333333333333333,
             "#9c179e"
            ],
            [
             0.4444444444444444,
             "#bd3786"
            ],
            [
             0.5555555555555556,
             "#d8576b"
            ],
            [
             0.6666666666666666,
             "#ed7953"
            ],
            [
             0.7777777777777778,
             "#fb9f3a"
            ],
            [
             0.8888888888888888,
             "#fdca26"
            ],
            [
             1,
             "#f0f921"
            ]
           ]
          },
          "colorway": [
           "#636efa",
           "#EF553B",
           "#00cc96",
           "#ab63fa",
           "#FFA15A",
           "#19d3f3",
           "#FF6692",
           "#B6E880",
           "#FF97FF",
           "#FECB52"
          ],
          "font": {
           "color": "#2a3f5f"
          },
          "geo": {
           "bgcolor": "white",
           "lakecolor": "white",
           "landcolor": "#E5ECF6",
           "showlakes": true,
           "showland": true,
           "subunitcolor": "white"
          },
          "hoverlabel": {
           "align": "left"
          },
          "hovermode": "closest",
          "mapbox": {
           "style": "light"
          },
          "paper_bgcolor": "white",
          "plot_bgcolor": "#E5ECF6",
          "polar": {
           "angularaxis": {
            "gridcolor": "white",
            "linecolor": "white",
            "ticks": ""
           },
           "bgcolor": "#E5ECF6",
           "radialaxis": {
            "gridcolor": "white",
            "linecolor": "white",
            "ticks": ""
           }
          },
          "scene": {
           "xaxis": {
            "backgroundcolor": "#E5ECF6",
            "gridcolor": "white",
            "gridwidth": 2,
            "linecolor": "white",
            "showbackground": true,
            "ticks": "",
            "zerolinecolor": "white"
           },
           "yaxis": {
            "backgroundcolor": "#E5ECF6",
            "gridcolor": "white",
            "gridwidth": 2,
            "linecolor": "white",
            "showbackground": true,
            "ticks": "",
            "zerolinecolor": "white"
           },
           "zaxis": {
            "backgroundcolor": "#E5ECF6",
            "gridcolor": "white",
            "gridwidth": 2,
            "linecolor": "white",
            "showbackground": true,
            "ticks": "",
            "zerolinecolor": "white"
           }
          },
          "shapedefaults": {
           "line": {
            "color": "#2a3f5f"
           }
          },
          "ternary": {
           "aaxis": {
            "gridcolor": "white",
            "linecolor": "white",
            "ticks": ""
           },
           "baxis": {
            "gridcolor": "white",
            "linecolor": "white",
            "ticks": ""
           },
           "bgcolor": "#E5ECF6",
           "caxis": {
            "gridcolor": "white",
            "linecolor": "white",
            "ticks": ""
           }
          },
          "title": {
           "x": 0.05
          },
          "xaxis": {
           "automargin": true,
           "gridcolor": "white",
           "linecolor": "white",
           "ticks": "",
           "title": {
            "standoff": 15
           },
           "zerolinecolor": "white",
           "zerolinewidth": 2
          },
          "yaxis": {
           "automargin": true,
           "gridcolor": "white",
           "linecolor": "white",
           "ticks": "",
           "title": {
            "standoff": 15
           },
           "zerolinecolor": "white",
           "zerolinewidth": 2
          }
         }
        },
        "title": {
         "text": "the top 20 hotels in the top 5 of French cities"
        },
        "width": 650
       }
      }
     },
     "metadata": {},
     "output_type": "display_data"
    }
   ],
   "source": [
    "import plotly.express as px\n",
    "fig = px.scatter_mapbox(best_hotel, lat=\"lat_hotel\", lon=\"lon_hotel\",     color=\"score\", size=\"temp\", hover_name='hotel_name',\n",
    "                  color_continuous_scale=px.colors.cyclical.Edge, size_max=15, zoom=4.5, title='the top 20 hotels in the top 5 of French cities')\n",
    "fig.update_layout(mapbox_style=\"carto-positron\",width = 650, height = 650)\n",
    "fig.show()"
   ]
  }
 ],
 "metadata": {
  "kernelspec": {
   "display_name": "Python 3",
   "language": "python",
   "name": "python3"
  },
  "language_info": {
   "codemirror_mode": {
    "name": "ipython",
    "version": 3
   },
   "file_extension": ".py",
   "mimetype": "text/x-python",
   "name": "python",
   "nbconvert_exporter": "python",
   "pygments_lexer": "ipython3",
   "version": "3.10.7 (tags/v3.10.7:6cc6b13, Sep  5 2022, 14:08:36) [MSC v.1933 64 bit (AMD64)]"
  },
  "orig_nbformat": 4,
  "vscode": {
   "interpreter": {
    "hash": "278252670ec473998422183e7c7c20bd7526adc6817e623fe2d4e128b05eb28d"
   }
  }
 },
 "nbformat": 4,
 "nbformat_minor": 2
}
